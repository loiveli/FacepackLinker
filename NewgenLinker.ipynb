{
 "cells": [
  {
   "cell_type": "code",
   "execution_count": 1,
   "id": "73e7479b",
   "metadata": {},
   "outputs": [],
   "source": [
    "playersPath = \"I:/FM/Football Manager 2023/graphics/1999/\"\n",
    "shortlist = \"I:/FM/Football Manager 2023/Shortlist.html\"\n",
    "rename = True"
   ]
  },
  {
   "cell_type": "code",
   "execution_count": 2,
   "id": "632ae015",
   "metadata": {},
   "outputs": [],
   "source": [
    "import os, os.path"
   ]
  },
  {
   "cell_type": "code",
   "execution_count": 3,
   "id": "e65d403e",
   "metadata": {},
   "outputs": [],
   "source": [
    "from lxml import etree as ET"
   ]
  },
  {
   "cell_type": "code",
   "execution_count": 4,
   "id": "bc440d9f",
   "metadata": {},
   "outputs": [],
   "source": [
    "import pandas as pd"
   ]
  },
  {
   "cell_type": "code",
   "execution_count": 5,
   "id": "3af6b51b",
   "metadata": {},
   "outputs": [],
   "source": [
    "newgens = pd.read_html(shortlist,encoding=\"UTF-8\")[0]"
   ]
  },
  {
   "cell_type": "code",
   "execution_count": 6,
   "id": "ed3cd172",
   "metadata": {},
   "outputs": [],
   "source": [
    "newgens = newgens.drop([\"Rec\",\"Inf\"], axis=1)\n"
   ]
  },
  {
   "cell_type": "code",
   "execution_count": 7,
   "id": "fcd7f179",
   "metadata": {},
   "outputs": [
    {
     "name": "stdout",
     "output_type": "stream",
     "text": [
      "             UID               Name\n",
      "0     2002116244  Tommaso Abbrescia\n",
      "1     2002144788      Miguel Aceval\n",
      "2     2002144802     Albert Acevedo\n",
      "3     2002152485  Emmanuel Adebayor\n",
      "4     2002107683         Adem Koçak\n",
      "...          ...                ...\n",
      "1111  2002115579      Daniel Ziebig\n",
      "1112  2002110370      François Zoko\n",
      "1113  2002152859        Ramon Zomer\n",
      "1114  2002144492               Zulu\n",
      "1115  2002112979     Theo Zwarthoed\n",
      "\n",
      "[1116 rows x 2 columns]\n"
     ]
    }
   ],
   "source": [
    "print(newgens)"
   ]
  },
  {
   "cell_type": "code",
   "execution_count": 8,
   "id": "f1cafeff",
   "metadata": {},
   "outputs": [],
   "source": [
    "newgens = newgens[~newgens[\"Name\"].duplicated(keep=False)]"
   ]
  },
  {
   "cell_type": "code",
   "execution_count": 9,
   "id": "72e04fe7",
   "metadata": {
    "scrolled": false
   },
   "outputs": [
    {
     "name": "stdout",
     "output_type": "stream",
     "text": [
      "             UID               Name\n",
      "0     2002116244  Tommaso Abbrescia\n",
      "1     2002144788      Miguel Aceval\n",
      "2     2002144802     Albert Acevedo\n",
      "3     2002152485  Emmanuel Adebayor\n",
      "4     2002107683         Adem Koçak\n",
      "...          ...                ...\n",
      "1111  2002115579      Daniel Ziebig\n",
      "1112  2002110370      François Zoko\n",
      "1113  2002152859        Ramon Zomer\n",
      "1114  2002144492               Zulu\n",
      "1115  2002112979     Theo Zwarthoed\n",
      "\n",
      "[1102 rows x 2 columns]\n"
     ]
    }
   ],
   "source": [
    "print(newgens)"
   ]
  },
  {
   "cell_type": "code",
   "execution_count": 10,
   "id": "77f1c352",
   "metadata": {},
   "outputs": [],
   "source": [
    "newgens[\"Deaccented\"] = newgens[\"Name\"].str.normalize(\"NFKD\").str.encode(\"ascii\",errors=\"ignore\").str.decode(\"utf-8\")"
   ]
  },
  {
   "cell_type": "code",
   "execution_count": 11,
   "id": "35f8d7c2",
   "metadata": {},
   "outputs": [],
   "source": [
    "files = os.listdir(playersPath)"
   ]
  },
  {
   "cell_type": "code",
   "execution_count": 13,
   "id": "dcaa68b2",
   "metadata": {},
   "outputs": [],
   "source": [
    "names = [os.path.splitext(file)[0] for file in files]"
   ]
  },
  {
   "cell_type": "code",
   "execution_count": 14,
   "id": "cf46d834",
   "metadata": {
    "scrolled": true
   },
   "outputs": [
    {
     "name": "stdout",
     "output_type": "stream",
     "text": [
      "Players found: 434 : ['2002105845', '2002105846', '2002105847', '2002105877', '2002105878', '2002105908', '2002105931', '2002105990', '2002106465', '2002106521', '2002106764', '2002106766', '2002106767', '2002106768', '2002106810', '2002106814', '2002106815', '2002107046', '2002107095', '2002107141', '2002107247', '2002107267', '2002107331', '2002107428', '2002107445', '2002107446', '2002107450', '2002107594', '2002107656', '2002107662', '2002107670', '2002107681', '2002107682', '2002107683', '2002107700', '2002107719', '2002107809', '2002107812', '2002107823', '2002107824', '2002107974', '2002107979', '2002107981', '2002107988', '2002108057', '2002108058', '2002108061', '2002108214', '2002108215', '2002108361', '2002108362', '2002108367', '2002108371', '2002108372', '2002108373', '2002108376', '2002108385', '2002108386', '2002108387', '2002108389', '2002108395', '2002108424', '2002108425', '2002108627', '2002108633', '2002108643', '2002108644', '2002108645', '2002108647', '2002108659', '2002108661', '2002108693', '2002108694', '2002108695', '2002108697', '2002108752', '2002108758', '2002108766', '2002108770', '2002108771', '2002108781', '2002108814', '2002108823', '2002108870', '2002108939', '2002108947', '2002109034', '2002109035', '2002109038', '2002109396', '2002109397', '2002109398', '2002109399', '2002109404', '2002109406', '2002109427', '2002109428', '2002109429', '2002109430', '2002109440', '2002109441', '2002109443', '2002109457', '2002109458', '2002109460', '2002109727', '2002109732', '2002109738', '2002109747', '2002109762', '2002109808', '2002109885', '2002109887', '2002109905', '2002109906', '2002109907', '2002109938', '2002109939', '2002109944', '2002109974', '2002110005', '2002110006', '2002110007', '2002110008', '2002110009', '2002110010', '2002110016', '2002110023', '2002110024', '2002110052', '2002110057', '2002110070', '2002110084', '2002110085', '2002110088', '2002110100', '2002110208', '2002110209', '2002110228', '2002110307', '2002110324', '2002110338', '2002110339', '2002110370', '2002110371', '2002110381', '2002110406', '2002110803', '2002110804', '2002110810', '2002110819', '2002110829', '2002110830', '2002110845', '2002110907', '2002110908', '2002110909', '2002110910', '2002111267', '2002111269', '2002111270', '2002111271', '2002111282', '2002111298', '2002111299', '2002111341', '2002111342', '2002111481', '2002111482', '2002111483', '2002111484', '2002111495', '2002111510', '2002111511', '2002111515', '2002111516', '2002111520', '2002111559', '2002111991', '2002111992', '2002111994', '2002112027', '2002112692', '2002112696', '2002112698', '2002112708', '2002112709', '2002112713', '2002112716', '2002112750', '2002112751', '2002112902', '2002112906', '2002112917', '2002112935', '2002112944', '2002112945', '2002112946', '2002112949', '2002112954', '2002112955', '2002112956', '2002112961', '2002112977', '2002112978', '2002112979', '2002112994', '2002113013', '2002113014', '2002113015', '2002113029', '2002113044', '2002113045', '2002113048', '2002113049', '2002113050', '2002113051', '2002113061', '2002113076', '2002113163', '2002113164', '2002113166', '2002113337', '2002113352', '2002113370', '2002113436', '2002113472', '2002113473', '2002113474', '2002113515', '2002113516', '2002113517', '2002113518', '2002113519', '2002113536', '2002113550', '2002113551', '2002113574', '2002113575', '2002113667', '2002113707', '2002114207', '2002114209', '2002114224', '2002114261', '2002114477', '2002114487', '2002114489', '2002114491', '2002114531', '2002114553', '2002114570', '2002114629', '2002114630', '2002114631', '2002114687', '2002114690', '2002114741', '2002114883', '2002114892', '2002114894', '2002114903', '2002114904', '2002114905', '2002114932', '2002114933', '2002114934', '2002115022', '2002115030', '2002115036', '2002115050', '2002115079', '2002115093', '2002115189', '2002115468', '2002115501', '2002115527', '2002115548', '2002115569', '2002115570', '2002115577', '2002115579', '2002115580', '2002115581', '2002115622', '2002115697', '2002115706', '2002115733', '2002115737', '2002115990', '2002116003', '2002116017', '2002116026', '2002116037', '2002116094', '2002116095', '2002116096', '2002116100', '2002116244', '2002116376', '2002116387', '2002116393', '2002116394', '2002116395', '2002116396', '2002116397', '2002116400', '2002116417', '2002116422', '2002116442', '2002116443', '2002116467', '2002116497', '2002116498', '2002116499', '2002116554', '2002116555', '2002116559', '2002116569', '2002116645', '2002116675', '2002116695', '2002116706', '2002116738', '2002116739', '2002116741', '2002116745', '2002116746', '2002116749', '2002116772', '2002116813', '2002116848', '2002116877', '2002116878', '2002116879', '2002116925', '2002117330', '2002117334', '2002117335', '2002117357', '2002117358', '2002117371', '2002117378', '2002117400', '2002117401', '2002117402', '2002117407', '2002117414', '2002117452', '2002117454', '2002117593', '2002117595', '2002117596', '2002117597', '2002117598', '2002117599', '2002117600', '2002117606', '2002117607', '2002117608', '2002117660', '2002117661', '2002117680', '2002117729', '2002117762', '2002117930', '2002117983', '2002118243', '2002118244', '2002118245', '2002118252', '2002118253', '2002118564', '2002118565', '2002118566', '2002118567', '2002118570', '2002118571', '2002118655', '2002118656', '2002119530', '2002150322', '2002150767', '2002150768', '2002151636', '2002151637', '2002151934', '2002151935', '2002151936', '2002151937', '2002152784', '2002152857', '2002152859', '2002152863', '2002153072', '2002153634', '2002153644', '2002153906', '2002153987', '2002153991', '2002153995', 'Alexis Nicholas', 'Antolin Alcarez', 'Anton Kay', 'Asier Iriondo', 'Christos Kaeypidis', 'config', 'Daniel Nardiello', 'Danny Ogunmade', 'Edinho', 'Franceso Ruopolo', 'Francisco Fonseca', 'Harbey Bischop', 'Harie Gommans', 'Inigo Martinez', 'Jacob Sorensen', 'Javier Paredes', 'Jofre Cucurella', 'Juanma', 'Kieran Bechan', 'Leonardo Gracian', 'Llyod Doyley', 'Names', 'Neil Austin', 'Oscar Gonzalez', 'Othmane Hamama ', 'Pau Green', 'Pedro Silva', 'Radomir Dalovic', 'Ricardo Colombo', 'Semih Sentürk', 'Stefan Fattori', 'Tiago Silva', 'Vladimir Dordevic']\n"
     ]
    }
   ],
   "source": [
    "print(f\"Players found: {len(names)} : {names}\")"
   ]
  },
  {
   "cell_type": "code",
   "execution_count": 15,
   "id": "638767a6",
   "metadata": {},
   "outputs": [],
   "source": [
    "Players = newgens.loc[newgens[\"UID\"].astype(str).isin(names) | newgens[\"Name\"].isin(names) | newgens[\"Deaccented\"].isin(names)]\n"
   ]
  },
  {
   "cell_type": "code",
   "execution_count": 16,
   "id": "7ab9d742",
   "metadata": {},
   "outputs": [],
   "source": [
    "config = ET.Element(\"record\")\n",
    "preload = ET.SubElement(config,\"boolean\", id=\"preload\", value=\"false\")\n",
    "amap = ET.SubElement(config,\"boolean\", id=\"amap\", value=\"false\")\n",
    "list = ET.SubElement(config, \"list\", id=\"maps\")\n"
   ]
  },
  {
   "cell_type": "code",
   "execution_count": 17,
   "id": "50d2781d",
   "metadata": {},
   "outputs": [],
   "source": [
    "for index,player in Players.iterrows():\n",
    "    record = {\"from\":None, \"to\":None}\n",
    "    \n",
    "    if(os.path.exists(f\"{playersPath}{player['Name']}.png\")):\n",
    "        record[\"to\"] = player[\"UID\"]\n",
    "        if rename: \n",
    "            os.rename(f\"{playersPath}{player['Name']}.png\", f\"{playersPath}{player['UID']}.png\")\n",
    "            record[\"from\"] = player['UID']\n",
    "        else:\n",
    "            record[\"from\"] = player[\"Name\"]\n",
    "    elif(os.path.exists(f\"{playersPath}{player['Deaccented']}.png\")):\n",
    "        record[\"to\"] = player[\"UID\"]\n",
    "        if rename: \n",
    "            os.rename(f\"{playersPath}{player['Deaccented']}.png\", f\"{playersPath}{player['UID']}.png\")\n",
    "            record[\"from\"] = player['UID']\n",
    "        else:\n",
    "            record[\"from\"] = player[\"Deaccented\"]\n",
    "    elif(os.path.exists(f\"{playersPath}{player['UID']}.png\")):\n",
    "        record[\"to\"] = player[\"UID\"]\n",
    "        record[\"from\"] = player['UID']\n",
    "        \n",
    "    if record:\n",
    "        recordXML = ET.SubElement(list, \"record\")\n",
    "        recordXML.set(\"from\", str(record[\"from\"]))\n",
    "        recordXML.set(\"to\",f'graphics/pictures/person/{record[\"to\"]}/portrait')\n",
    "    \n",
    "        "
   ]
  },
  {
   "cell_type": "code",
   "execution_count": 18,
   "id": "d13f701e",
   "metadata": {},
   "outputs": [],
   "source": [
    "\n",
    "configTree = config.getroottree()\n",
    "configTree.write(f\"{playersPath}/config.xml\", encoding=\"utf-8\", pretty_print=True)"
   ]
  },
  {
   "cell_type": "code",
   "execution_count": null,
   "id": "352b2b1d",
   "metadata": {},
   "outputs": [],
   "source": []
  }
 ],
 "metadata": {
  "kernelspec": {
   "display_name": "Python 3",
   "language": "python",
   "name": "python3"
  },
  "language_info": {
   "codemirror_mode": {
    "name": "ipython",
    "version": 3
   },
   "file_extension": ".py",
   "mimetype": "text/x-python",
   "name": "python",
   "nbconvert_exporter": "python",
   "pygments_lexer": "ipython3",
   "version": "3.11.2"
  },
  "vscode": {
   "interpreter": {
    "hash": "ebe3ad848dfa4119a76d5c33f179022f8d27337b24d1f64bab4a364f4cb402c6"
   }
  }
 },
 "nbformat": 4,
 "nbformat_minor": 5
}
